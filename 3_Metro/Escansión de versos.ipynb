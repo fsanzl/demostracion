{
 "cells": [
  {
   "cell_type": "code",
   "execution_count": 1,
   "metadata": {},
   "outputs": [],
   "source": [
    "import stanza"
   ]
  },
  {
   "cell_type": "code",
   "execution_count": 2,
   "metadata": {},
   "outputs": [
    {
     "data": {
      "application/vnd.jupyter.widget-view+json": {
       "model_id": "8cd15c94bff64d5987c19483f8774571",
       "version_major": 2,
       "version_minor": 0
      },
      "text/plain": [
       "Downloading https://raw.githubusercontent.com/stanfordnlp/stanza-resources/main/resources_1.7.0.json:   0%|   …"
      ]
     },
     "metadata": {},
     "output_type": "display_data"
    },
    {
     "name": "stderr",
     "output_type": "stream",
     "text": [
      "2024-03-25 11:57:56 INFO: Downloading these customized packages for language: es (Spanish)...\n",
      "=====================================\n",
      "| Processor       | Package         |\n",
      "-------------------------------------\n",
      "| tokenize        | ancora          |\n",
      "| mwt             | ancora          |\n",
      "| pos             | ancora_charlm   |\n",
      "| lemma           | ancora_nocharlm |\n",
      "| constituency    | combined_charlm |\n",
      "| depparse        | ancora_charlm   |\n",
      "| sentiment       | tass2020        |\n",
      "| ner             | ancora          |\n",
      "| forward_charlm  | newswiki        |\n",
      "| pretrain        | fasttextwiki    |\n",
      "| backward_charlm | newswiki        |\n",
      "| pretrain        | conll17         |\n",
      "=====================================\n",
      "\n"
     ]
    },
    {
     "data": {
      "application/vnd.jupyter.widget-view+json": {
       "model_id": "380514deeab94aadaf4417e2fd74fc95",
       "version_major": 2,
       "version_minor": 0
      },
      "text/plain": [
       "Downloading https://huggingface.co/stanfordnlp/stanza-es/resolve/v1.7.0/models/tokenize/ancora.pt:   0%|      …"
      ]
     },
     "metadata": {},
     "output_type": "display_data"
    },
    {
     "data": {
      "application/vnd.jupyter.widget-view+json": {
       "model_id": "1cdb8766d02a4d5287c93a80838f51e3",
       "version_major": 2,
       "version_minor": 0
      },
      "text/plain": [
       "Downloading https://huggingface.co/stanfordnlp/stanza-es/resolve/v1.7.0/models/mwt/ancora.pt:   0%|          |…"
      ]
     },
     "metadata": {},
     "output_type": "display_data"
    },
    {
     "data": {
      "application/vnd.jupyter.widget-view+json": {
       "model_id": "44eccfaea2e143a4a318d731151f6d70",
       "version_major": 2,
       "version_minor": 0
      },
      "text/plain": [
       "Downloading https://huggingface.co/stanfordnlp/stanza-es/resolve/v1.7.0/models/pos/ancora_charlm.pt:   0%|    …"
      ]
     },
     "metadata": {},
     "output_type": "display_data"
    },
    {
     "data": {
      "application/vnd.jupyter.widget-view+json": {
       "model_id": "2490996fa255417d915619931885af21",
       "version_major": 2,
       "version_minor": 0
      },
      "text/plain": [
       "Downloading https://huggingface.co/stanfordnlp/stanza-es/resolve/v1.7.0/models/lemma/ancora_nocharlm.pt:   0%|…"
      ]
     },
     "metadata": {},
     "output_type": "display_data"
    },
    {
     "data": {
      "application/vnd.jupyter.widget-view+json": {
       "model_id": "bf1e005eda114425ba788b2cbdc8ba17",
       "version_major": 2,
       "version_minor": 0
      },
      "text/plain": [
       "Downloading https://huggingface.co/stanfordnlp/stanza-es/resolve/v1.7.0/models/constituency/combined_charlm.pt…"
      ]
     },
     "metadata": {},
     "output_type": "display_data"
    },
    {
     "data": {
      "application/vnd.jupyter.widget-view+json": {
       "model_id": "1a29da00fa904b7d97717838a1eeecbc",
       "version_major": 2,
       "version_minor": 0
      },
      "text/plain": [
       "Downloading https://huggingface.co/stanfordnlp/stanza-es/resolve/v1.7.0/models/depparse/ancora_charlm.pt:   0%…"
      ]
     },
     "metadata": {},
     "output_type": "display_data"
    },
    {
     "data": {
      "application/vnd.jupyter.widget-view+json": {
       "model_id": "da03f31d61e4471c97239acff84cdedb",
       "version_major": 2,
       "version_minor": 0
      },
      "text/plain": [
       "Downloading https://huggingface.co/stanfordnlp/stanza-es/resolve/v1.7.0/models/sentiment/tass2020.pt:   0%|   …"
      ]
     },
     "metadata": {},
     "output_type": "display_data"
    },
    {
     "data": {
      "application/vnd.jupyter.widget-view+json": {
       "model_id": "a66f4eba6234435aa1454527ee5b6f74",
       "version_major": 2,
       "version_minor": 0
      },
      "text/plain": [
       "Downloading https://huggingface.co/stanfordnlp/stanza-es/resolve/v1.7.0/models/ner/ancora.pt:   0%|          |…"
      ]
     },
     "metadata": {},
     "output_type": "display_data"
    },
    {
     "data": {
      "application/vnd.jupyter.widget-view+json": {
       "model_id": "f53d1581ab334c16a24683d91360673f",
       "version_major": 2,
       "version_minor": 0
      },
      "text/plain": [
       "Downloading https://huggingface.co/stanfordnlp/stanza-es/resolve/v1.7.0/models/forward_charlm/newswiki.pt:   0…"
      ]
     },
     "metadata": {},
     "output_type": "display_data"
    },
    {
     "data": {
      "application/vnd.jupyter.widget-view+json": {
       "model_id": "5ff0c23b96af4ad499f76fd9c9216c6b",
       "version_major": 2,
       "version_minor": 0
      },
      "text/plain": [
       "Downloading https://huggingface.co/stanfordnlp/stanza-es/resolve/v1.7.0/models/pretrain/fasttextwiki.pt:   0%|…"
      ]
     },
     "metadata": {},
     "output_type": "display_data"
    },
    {
     "data": {
      "application/vnd.jupyter.widget-view+json": {
       "model_id": "3f434aff5d55475ab94689c0f3d2092a",
       "version_major": 2,
       "version_minor": 0
      },
      "text/plain": [
       "Downloading https://huggingface.co/stanfordnlp/stanza-es/resolve/v1.7.0/models/backward_charlm/newswiki.pt:   …"
      ]
     },
     "metadata": {},
     "output_type": "display_data"
    },
    {
     "data": {
      "application/vnd.jupyter.widget-view+json": {
       "model_id": "8be0817309634733a2091240c69b225d",
       "version_major": 2,
       "version_minor": 0
      },
      "text/plain": [
       "Downloading https://huggingface.co/stanfordnlp/stanza-es/resolve/v1.7.0/models/pretrain/conll17.pt:   0%|     …"
      ]
     },
     "metadata": {},
     "output_type": "display_data"
    },
    {
     "name": "stderr",
     "output_type": "stream",
     "text": [
      "2024-03-25 11:58:20 INFO: Finished downloading models and saved to /home/fernando/Documents/src/BCN/2_Metro/.venv/share/stanza_resources.\n"
     ]
    }
   ],
   "source": [
    "import stanza\n",
    "stanza.download(lang=\"es\",\n",
    "                package=None,\n",
    "                processors={\"ner\": \"ancora\",\n",
    "                            \"tokenize\": \"ancora\",\n",
    "                            \"pos\": \"ancora\",\n",
    "                            \"lemma\": \"ancora\",\n",
    "                            \"mwt\":\"ancora\",\n",
    "                            \"constituency\":\"combined_charlm\",\n",
    "                            \"depparse\": \"ancora\",\n",
    "                            \"sentiment\":\"tass2020\"\n",
    "                            })"
   ]
  },
  {
   "cell_type": "code",
   "execution_count": 3,
   "metadata": {},
   "outputs": [],
   "source": [
    "from libEscansion import VerseMetre"
   ]
  },
  {
   "cell_type": "code",
   "execution_count": 4,
   "metadata": {},
   "outputs": [],
   "source": [
    "a = VerseMetre(\"puto es el hombre que de putas fía\")"
   ]
  },
  {
   "cell_type": "code",
   "execution_count": 5,
   "metadata": {},
   "outputs": [
    {
     "data": {
      "text/plain": [
       "[['pU', 'tŏEs'],\n",
       " ['el'],\n",
       " ['ʰOm', 'bɾe'],\n",
       " ['ke'],\n",
       " ['de'],\n",
       " ['pU', 'tas'],\n",
       " ['fI', 'a']]"
      ]
     },
     "execution_count": 5,
     "metadata": {},
     "output_type": "execute_result"
    }
   ],
   "source": [
    "a.syllables"
   ]
  },
  {
   "cell_type": "code",
   "execution_count": null,
   "metadata": {},
   "outputs": [],
   "source": []
  }
 ],
 "metadata": {
  "kernelspec": {
   "display_name": ".venv",
   "language": "python",
   "name": "python3"
  },
  "language_info": {
   "codemirror_mode": {
    "name": "ipython",
    "version": 3
   },
   "file_extension": ".py",
   "mimetype": "text/x-python",
   "name": "python",
   "nbconvert_exporter": "python",
   "pygments_lexer": "ipython3",
   "version": "3.11.2"
  }
 },
 "nbformat": 4,
 "nbformat_minor": 2
}
